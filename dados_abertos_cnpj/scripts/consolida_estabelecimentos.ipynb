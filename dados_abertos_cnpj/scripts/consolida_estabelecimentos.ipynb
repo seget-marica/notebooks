{
 "cells": [
  {
   "cell_type": "code",
   "execution_count": 1,
   "metadata": {},
   "outputs": [],
   "source": [
    "import os\n",
    "import pandas as pd"
   ]
  },
  {
   "cell_type": "code",
   "execution_count": null,
   "metadata": {},
   "outputs": [],
   "source": [
    "# Diretório onde estão os arquivos tratados\n",
    "pasta_tratados = \"/home/danielbarbosa/seget/notebooks/dados_abertos_cnpj/dados_tratados/2023-05\"\n",
    "\n",
    "# Lista todos os arquivos CSV na pasta\n",
    "arquivos_csv = [f for f in os.listdir(pasta_tratados) if f.endswith(\"_tratado.csv\")]\n",
    "\n",
    "# Criar uma lista para armazenar os DataFrames\n",
    "dfs = []\n",
    "\n",
    "# Loop para carregar e adicionar cada CSV ao DataFrame final\n",
    "for arquivo in arquivos_csv:\n",
    "    caminho_arquivo = os.path.join(pasta_tratados, arquivo)\n",
    "    df = pd.read_csv(caminho_arquivo, sep=';', encoding=\"utf-8-sig\")\n",
    "    dfs.append(df)\n",
    "\n",
    "# Concatenar todos os DataFrames em um único\n",
    "df_consolidado = pd.concat(dfs, ignore_index=True)\n",
    "\n",
    "# Criar diretório para os dados consolidados, se não existir\n",
    "pasta_consolidado = \"/home/danielbarbosa/seget/notebooks/dados_abertos_cnpj/dados_consolidados\"\n",
    "os.makedirs(pasta_consolidado, exist_ok=True)\n",
    "\n",
    "# Definir o caminho do arquivo consolidado\n",
    "caminho_saida = os.path.join(pasta_consolidado, \"estabelecimentos_2023_05.csv\")\n",
    "\n",
    "# Salvar o DataFrame consolidado\n",
    "df_consolidado.to_csv(caminho_saida, sep=';', index=False, encoding=\"utf-8-sig\")\n",
    "\n",
    "print(f\"Arquivo consolidado salvo em: {caminho_saida}\")"
   ]
  }
 ],
 "metadata": {
  "kernelspec": {
   "display_name": ".venv",
   "language": "python",
   "name": "python3"
  },
  "language_info": {
   "codemirror_mode": {
    "name": "ipython",
    "version": 3
   },
   "file_extension": ".py",
   "mimetype": "text/x-python",
   "name": "python",
   "nbconvert_exporter": "python",
   "pygments_lexer": "ipython3",
   "version": "3.10.12"
  }
 },
 "nbformat": 4,
 "nbformat_minor": 2
}
