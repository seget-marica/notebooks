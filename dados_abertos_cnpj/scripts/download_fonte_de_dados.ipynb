{
 "cells": [
  {
   "cell_type": "code",
   "execution_count": null,
   "metadata": {},
   "outputs": [],
   "source": [
    "import os\n",
    "import requests\n",
    "from bs4 import BeautifulSoup\n",
    "import zipfile\n",
    "import io"
   ]
  },
  {
   "cell_type": "code",
   "execution_count": null,
   "metadata": {},
   "outputs": [],
   "source": [
    "# ✅ Definir corretamente o diretório base dentro do seu workspace\n",
    "PASTA_BASE = \"/home/danielbarbosa/seget/notebooks/dados_abertos_cnpj/arquivos\"\n",
    "\n",
    "# Criar o diretório base se não existir\n",
    "os.makedirs(PASTA_BASE, exist_ok=True)\n",
    "\n",
    "# Definir permissões para garantir acesso\n",
    "os.chmod(PASTA_BASE, 0o755)\n",
    "\n",
    "# URL principal dos dados\n",
    "BASE_URL = \"https://arquivos.receitafederal.gov.br/dados/cnpj/dados_abertos_cnpj/\""
   ]
  },
  {
   "cell_type": "code",
   "execution_count": null,
   "metadata": {},
   "outputs": [],
   "source": [
    "# 1️⃣ BAIXAR A PÁGINA PRINCIPAL E EXTRAIR OS DIRETÓRIOS\n",
    "print(\"🔄 Obtendo a lista de diretórios...\")\n",
    "response = requests.get(BASE_URL)\n",
    "soup = BeautifulSoup(response.text, \"html.parser\")\n",
    "\n",
    "# Encontrar todos os links que correspondem a diretórios (exemplo: \"2025-02/\")\n",
    "pastas = [a['href'] for a in soup.find_all(\"a\", href=True) if a['href'].endswith(\"/\") and a['href'] != \"../\"]\n",
    "print(f\"📁 Diretórios encontrados: {pastas}\")"
   ]
  },
  {
   "cell_type": "code",
   "execution_count": null,
   "metadata": {},
   "outputs": [],
   "source": [
    "# 2️⃣ ITERAR SOBRE CADA DIRETÓRIO PARA BAIXAR OS ARQUIVOS ZIP\n",
    "for pasta in pastas:\n",
    "    url_pasta = BASE_URL + pasta\n",
    "    response_pasta = requests.get(url_pasta)\n",
    "    soup_pasta = BeautifulSoup(response_pasta.text, \"html.parser\")\n",
    "\n",
    "    # ✅ Criar a estrutura correta dentro de `arquivos/dados/`\n",
    "    caminho_pasta_local = os.path.join(PASTA_BASE, \"dados\", pasta.strip('/'))\n",
    "    print(f'📂 Criando pasta: {caminho_pasta_local}')\n",
    "    \n",
    "    os.makedirs(caminho_pasta_local, exist_ok=True)\n",
    "\n",
    "    # Definir permissões na pasta criada\n",
    "    os.chmod(caminho_pasta_local, 0o755)\n",
    "\n",
    "    # 3️⃣ LISTAR ARQUIVOS ZIP DENTRO DO DIRETÓRIO\n",
    "    arquivos_zip = [a['href'] for a in soup_pasta.find_all(\"a\", href=True) if a['href'].endswith(\".zip\")]\n",
    "    print(f\"📂 {pasta} - Arquivos ZIP encontrados: {arquivos_zip}\")\n",
    "\n",
    "    for arquivo_zip in arquivos_zip:\n",
    "        url_arquivo = url_pasta + arquivo_zip\n",
    "        caminho_arquivo_zip = os.path.join(caminho_pasta_local, arquivo_zip)\n",
    "\n",
    "        # 4️⃣ FAZER DOWNLOAD DO ARQUIVO ZIP SE ELE NÃO EXISTIR\n",
    "        if not os.path.exists(caminho_arquivo_zip):\n",
    "            print(f\"⬇️ Baixando {url_arquivo}...\")\n",
    "            response_zip = requests.get(url_arquivo, stream=True)\n",
    "\n",
    "            if response_zip.status_code == 200:\n",
    "                with open(caminho_arquivo_zip, \"wb\") as f:\n",
    "                    f.write(response_zip.content)\n",
    "                print(f\"✅ Download concluído: {caminho_arquivo_zip}\")\n",
    "            else:\n",
    "                print(f\"❌ Erro ao baixar {url_arquivo}\")\n",
    "\n",
    "        # 5️⃣ EXTRAIR O CONTEÚDO DO ZIP NA MESMA ESTRUTURA\n",
    "        with zipfile.ZipFile(caminho_arquivo_zip, \"r\") as zip_ref:\n",
    "            zip_ref.extractall(caminho_pasta_local)\n",
    "            print(f\"📂 Arquivo extraído em: {caminho_pasta_local}\")\n",
    "\n",
    "print(\"✅ Processo concluído! Todos os arquivos foram baixados e extraídos.\")"
   ]
  }
 ],
 "metadata": {
  "kernelspec": {
   "display_name": ".venv",
   "language": "python",
   "name": "python3"
  },
  "language_info": {
   "codemirror_mode": {
    "name": "ipython",
    "version": 3
   },
   "file_extension": ".py",
   "mimetype": "text/x-python",
   "name": "python",
   "nbconvert_exporter": "python",
   "pygments_lexer": "ipython3",
   "version": "3.12.3"
  }
 },
 "nbformat": 4,
 "nbformat_minor": 2
}
