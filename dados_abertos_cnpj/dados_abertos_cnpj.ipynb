{
 "cells": [
  {
   "cell_type": "code",
   "execution_count": 33,
   "metadata": {},
   "outputs": [],
   "source": [
    "from chardet.universaldetector import UniversalDetector\n",
    "import dask.dataframe as dd\n",
    "import numpy as np\n",
    "import pandas as pd\n",
    "import codecs\n",
    "import os"
   ]
  },
  {
   "cell_type": "code",
   "execution_count": 34,
   "metadata": {},
   "outputs": [],
   "source": [
    "caminho_municipio = r'/home/danielbarbosa/seget/notebooks/dados_abertos_cnpj/arquivos/dados/2023-05/F.K03200$Z.D30513.MUNICCSV'\n",
    "\n",
    "detector = UniversalDetector()\n",
    "with codecs.open(caminho_municipio, 'rb') as arquivo:\n",
    "    for linha in arquivo:\n",
    "        detector.feed(linha)\n",
    "        break\n",
    "\n",
    "detector.close()\n",
    "encoding = detector.result['encoding']"
   ]
  },
  {
   "cell_type": "code",
   "execution_count": 35,
   "metadata": {},
   "outputs": [],
   "source": [
    "df = pd.read_csv(caminho_municipio, \n",
    "                        encoding=encoding, \n",
    "                        sep=';',\n",
    "                        header=None,\n",
    "                        names=['numero', 'municipio'])\n",
    "\n",
    "num_marica = df.loc[df['municipio'].str.contains('MARICA', case=False, na=False)]\n",
    "# num_marica.head()"
   ]
  },
  {
   "cell_type": "code",
   "execution_count": null,
   "metadata": {},
   "outputs": [],
   "source": [
    "# Definir diretório dos arquivos\n",
    "diretorio_estabelecimento = r'/home/danielbarbosa/seget/notebooks/dados_abertos_cnpj/arquivos/dados/2023-05'\n",
    "\n",
    "# Criar uma lista para armazenar os DataFrames do Dask\n",
    "dados_estabelecimento = []\n",
    "\n",
    "for arquivo_empresas in os.listdir(diretorio_estabelecimento):\n",
    "    if arquivo_empresas.endswith('.ESTABELE'):\n",
    "        caminho_arquivo = os.path.join(diretorio_estabelecimento, arquivo_empresas)\n",
    "\n",
    "        print(f\"📂 Carregando arquivo {arquivo_empresas} com Dask...\")\n",
    "\n",
    "        # Ler o arquivo diretamente com Dask (Lazy Loading) sem dtype_backend\n",
    "        df_dask = dd.read_csv(\n",
    "            caminho_arquivo,\n",
    "            sep=\";\",\n",
    "            encoding=\"ISO-8859-1\",\n",
    "            assume_missing=True,  # Melhor para lidar com dados incompletos\n",
    "            blocksize=\"100MB\",  # Define blocos de 100MB para leitura\n",
    "            dtype={\"codigo_municipio\": np.float64}  # Define tipo explicitamente para evitar erros\n",
    "        )\n",
    "\n",
    "        # Verificar nomes das colunas para garantir que \"codigo_municipio\" está correto\n",
    "        print(f\"📌 Colunas detectadas: {df_dask.columns}\")\n",
    "\n",
    "        # Aplicar filtro apenas se a coluna \"codigo_municipio\" existir\n",
    "        if 'codigo_municipio' in df_dask.columns:\n",
    "            df_dask_filtrado = df_dask[df_dask[\"codigo_municipio\"] == 5853]\n",
    "            print(f\"✅ Filtro aplicado: Apenas município 5853 ({arquivo_empresas})\")\n",
    "        else:\n",
    "            print(f\"⚠️ Aviso: Coluna 'codigo_municipio' não encontrada no arquivo {arquivo_empresas}, pulando filtro.\")\n",
    "            df_dask_filtrado = df_dask  # Continua com todos os dados se a coluna não existir\n",
    "\n",
    "        # Adicionar à lista de DataFrames Dask\n",
    "        dados_estabelecimento.append(df_dask_filtrado)\n",
    "\n",
    "# Concatenar todos os DataFrames do Dask\n",
    "empresas_consolidado = dd.concat(dados_estabelecimento)\n",
    "\n",
    "# Exibir amostra dos dados sem carregar tudo na memória\n",
    "print(empresas_consolidado.head())\n",
    "\n",
    "# Salvar em um novo arquivo CSV filtrado (de forma otimizada)\n",
    "empresas_consolidado.to_csv(\"empresas_consolidado_dask.csv\", single_file=True)\n",
    "\n",
    "print(\"✅ Processamento concluído com Dask! Apenas estabelecimentos do município 5853 foram mantidos.\")"
   ]
  }
 ],
 "metadata": {
  "kernelspec": {
   "display_name": ".venv",
   "language": "python",
   "name": "python3"
  },
  "language_info": {
   "codemirror_mode": {
    "name": "ipython",
    "version": 3
   },
   "file_extension": ".py",
   "mimetype": "text/x-python",
   "name": "python",
   "nbconvert_exporter": "python",
   "pygments_lexer": "ipython3",
   "version": "3.12.3"
  }
 },
 "nbformat": 4,
 "nbformat_minor": 2
}
