{
 "cells": [
  {
   "cell_type": "code",
   "execution_count": 3,
   "metadata": {},
   "outputs": [],
   "source": [
    "import pdfplumber\n",
    "import pandas as pd"
   ]
  },
  {
   "cell_type": "code",
   "execution_count": null,
   "metadata": {},
   "outputs": [],
   "source": [
    "# Caminho para o arquivo dentro do projeto\n",
    "caminho = '/home/danielbarbosa/seget/notebooks/arrecadacao/arquivos/arrecadacao_2025_02_25.pdf'\n",
    "\n",
    "# Nome do arquivo de saída\n",
    "saida_csv = '/home/danielbarbosa/seget/notebooks/arrecadacao/arquivos/consolidados/dados_arrecadacao_2025_02_25.csv'\n",
    "saida_excel = '/home/danielbarbosa/seget/notebooks/arrecadacao/arquivos/consolidados/dados_arrecadacao_2025_02_25.xlsx'\n",
    "\n",
    "# Definir colunas esperadas\n",
    "colunas = [\"Numcgm\", \"Nome\", \"Procedencia\", \"Tipo de debito\", \"Valor historico\", \"Valor corrigido\", \"Multa\", \"Juros\", \"Total\"]\n",
    "\n",
    "def extrair_dados_em_chunks(pdf_path, chunk_size=10):\n",
    "    \"\"\"\n",
    "    Extrai dados de um PDF processando em chunks \n",
    "    de páginas para evitar sobrecarga de memória\n",
    "    \"\"\"\n",
    "\n",
    "    with pdfplumber.open(caminho) as pdf:\n",
    "        for i in range(0, len(pdf.pages), chunk_size):\n",
    "            dados = []\n",
    "\n",
    "            # Processar um conjunto de páginas de cada vez\n",
    "            for page in pdf.pages[i:i+chunk_size]:\n",
    "                table = page.extract_table()\n",
    "                if table:\n",
    "                    dados.extend(table)\n",
    "            \n",
    "            if dados:\n",
    "                yield pd.DataFrame(dados, columns=colunas)\n",
    "\n",
    "# Criar o arquivo CSV inicial com cabeçalho\n",
    "pd.DataFrame(columns=colunas).to_csv(saida_csv, index=False)\n",
    "\n",
    "# Criar arquivo Excel inicial e salvar cabeçalhos\n",
    "with pd.ExcelWriter(saida_excel, engine=\"openpyxl\", mode=\"w\") as writer:\n",
    "    pd.DataFrame(columns=colunas).to_excel(writer, sheet_name=\"dados_arrecadacao\", index=False)\n",
    "\n",
    "# Processar e salvar os chunks no CSV e Excel\n",
    "with pd.ExcelWriter(saida_excel, engine=\"openpyxl\", mode=\"a\", if_sheet_exists=\"overlay\") as writer:\n",
    "    for chunk_df in extrair_dados_em_chunks(caminho, chunk_size=200):\n",
    "        chunk_df.to_csv(saida_csv, mode=\"a\", header=False, index=False)\n",
    "        chunk_df.to_excel(writer, sheet_name=\"dados_arrecadacao\", index=False, header=False, startrow=writer.sheets[\"dados_arrecadacao\"].max_row)\n",
    "\n",
    "print(f'Processamento concluído! Dados salvos em {saida_csv}')"
   ]
  }
 ],
 "metadata": {
  "kernelspec": {
   "display_name": ".venv",
   "language": "python",
   "name": "python3"
  },
  "language_info": {
   "codemirror_mode": {
    "name": "ipython",
    "version": 3
   },
   "file_extension": ".py",
   "mimetype": "text/x-python",
   "name": "python",
   "nbconvert_exporter": "python",
   "pygments_lexer": "ipython3",
   "version": "3.12.3"
  }
 },
 "nbformat": 4,
 "nbformat_minor": 2
}
